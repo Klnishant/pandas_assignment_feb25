{
 "cells": [
  {
   "cell_type": "code",
   "execution_count": 2,
   "id": "ba153170-7a56-473a-8541-58abfb559593",
   "metadata": {},
   "outputs": [
    {
     "name": "stdin",
     "output_type": "stream",
     "text": [
      "Enter the file path: test_scores.csv\n"
     ]
    },
    {
     "name": "stdout",
     "output_type": "stream",
     "text": [
      "   Mean  Median  mode\n",
      "0  83.5    85.0    85\n"
     ]
    }
   ],
   "source": [
    "import pandas as pd \n",
    "file_path = input(\"Enter the file path:\")\n",
    "data = pd.read_csv(file_path)\n",
    "mean = data[\"Test Score\"].mean()\n",
    "median = data[\"Test Score\"].median()\n",
    "mode = data[\"Test Score\"].mode()\n",
    "results = pd.DataFrame({\"Mean\":mean,\"Median\":median,\"mode\":mode})\n",
    "print(results)"
   ]
  },
  {
   "cell_type": "code",
   "execution_count": null,
   "id": "0356e308-8db9-4b82-9d89-953cb77a1ede",
   "metadata": {},
   "outputs": [],
   "source": []
  }
 ],
 "metadata": {
  "kernelspec": {
   "display_name": "Python 3 (ipykernel)",
   "language": "python",
   "name": "python3"
  },
  "language_info": {
   "codemirror_mode": {
    "name": "ipython",
    "version": 3
   },
   "file_extension": ".py",
   "mimetype": "text/x-python",
   "name": "python",
   "nbconvert_exporter": "python",
   "pygments_lexer": "ipython3",
   "version": "3.10.8"
  }
 },
 "nbformat": 4,
 "nbformat_minor": 5
}
