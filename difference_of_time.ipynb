{
 "cells": [
  {
   "cell_type": "code",
   "execution_count": 2,
   "id": "67e464a6-0ff7-4c08-add0-0e5c6983ad19",
   "metadata": {},
   "outputs": [
    {
     "name": "stdin",
     "output_type": "stream",
     "text": [
      "Enter the starting date in [yyyy-dd-mm] format: 2023-05-01\n",
      "Enter the ending date in [yyyy-dd-mm] format: 2023-06-01\n"
     ]
    },
    {
     "name": "stdout",
     "output_type": "stream",
     "text": [
      "The difference between 2023-05-01 and 2023-06-01 is:\n",
      "31 days, 0 hours, and 0 minutes.\n"
     ]
    }
   ],
   "source": [
    "import pandas as pd\n",
    "date1 = input(\"Enter the starting date in [yyyy-dd-mm] format:\")\n",
    "date2 = input(\"Enter the ending date in [yyyy-dd-mm] format:\")\n",
    "\n",
    "date1 = pd.to_datetime(date1)\n",
    "date2 = pd.to_datetime(date2)\n",
    "\n",
    "delta = date2 - date1\n",
    "\n",
    "# Calculate total number of minutes in delta\n",
    "total_minutes = delta.total_seconds() / 60\n",
    "\n",
    "# Calculate days, hours, and minutes\n",
    "days = delta.days\n",
    "hours = int(total_minutes / 60 % 24)\n",
    "minutes = int(total_minutes % 60)\n",
    "\n",
    "# Print the result\n",
    "print(\"The difference between\", date1.strftime(\"%Y-%m-%d\"), \"and\", date2.strftime(\"%Y-%m-%d\"), \"is:\")\n",
    "print(days, \"days,\", hours, \"hours, and\", minutes, \"minutes.\")"
   ]
  },
  {
   "cell_type": "code",
   "execution_count": null,
   "id": "aaa91c35-de9e-4c60-a40a-3f649810bb97",
   "metadata": {},
   "outputs": [],
   "source": []
  }
 ],
 "metadata": {
  "kernelspec": {
   "display_name": "Python 3 (ipykernel)",
   "language": "python",
   "name": "python3"
  },
  "language_info": {
   "codemirror_mode": {
    "name": "ipython",
    "version": 3
   },
   "file_extension": ".py",
   "mimetype": "text/x-python",
   "name": "python",
   "nbconvert_exporter": "python",
   "pygments_lexer": "ipython3",
   "version": "3.10.8"
  }
 },
 "nbformat": 4,
 "nbformat_minor": 5
}
