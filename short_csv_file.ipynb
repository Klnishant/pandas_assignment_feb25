{
 "cells": [
  {
   "cell_type": "code",
   "execution_count": 6,
   "id": "46607c8c-3229-495b-a04d-53d0c9684941",
   "metadata": {},
   "outputs": [
    {
     "name": "stdin",
     "output_type": "stream",
     "text": [
      "Enter the file path: categorial.csv\n",
      "Emteer the column name: Category\n",
      "Enter the category order (comma-separated):  ID,Category\n"
     ]
    },
    {
     "name": "stdout",
     "output_type": "stream",
     "text": [
      "   ID Category\n",
      "0   1      NaN\n",
      "1   2      NaN\n",
      "2   3      NaN\n",
      "3   4      NaN\n",
      "4   5      NaN\n",
      "5   6      NaN\n",
      "6   7      NaN\n",
      "7   8      NaN\n",
      "8   9      NaN\n",
      "9  10      NaN\n"
     ]
    }
   ],
   "source": [
    "import pandas as pd\n",
    "file_path = input(\"Enter the file path:\")\n",
    "column_name = input(\"Emteer the column name:\")\n",
    "data = pd.read_csv(file_path)\n",
    "category_order = input(\"Enter the category order (comma-separated): \").split(\",\")\n",
    "data[column_name] = pd.Categorical(data[column_name], categories=category_order, ordered=True)\n",
    "sorted_data = data.sort_values(by=column_name)\n",
    "print(sorted_data)"
   ]
  },
  {
   "cell_type": "code",
   "execution_count": null,
   "id": "e5019a5e-33d7-4cdb-ad82-64afe63f7e2c",
   "metadata": {},
   "outputs": [],
   "source": []
  }
 ],
 "metadata": {
  "kernelspec": {
   "display_name": "Python 3 (ipykernel)",
   "language": "python",
   "name": "python3"
  },
  "language_info": {
   "codemirror_mode": {
    "name": "ipython",
    "version": 3
   },
   "file_extension": ".py",
   "mimetype": "text/x-python",
   "name": "python",
   "nbconvert_exporter": "python",
   "pygments_lexer": "ipython3",
   "version": "3.10.8"
  }
 },
 "nbformat": 4,
 "nbformat_minor": 5
}
